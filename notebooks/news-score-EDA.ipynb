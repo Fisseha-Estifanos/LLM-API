{
 "cells": [
  {
   "cell_type": "code",
   "execution_count": 1,
   "metadata": {},
   "outputs": [],
   "source": [
    "# imports\n",
    "import os\n",
    "import sys\n",
    "import dvc.api\n",
    "import pandas as pd\n",
    "import dataframe_image as dfi\n",
    "import warnings\n",
    "warnings.filterwarnings('ignore')"
   ]
  },
  {
   "cell_type": "code",
   "execution_count": 2,
   "metadata": {},
   "outputs": [
    {
     "name": "stdout",
     "output_type": "stream",
     "text": [
      "--> <Logger dataCleaner (WARNING)>\n",
      "logger <Logger dataCleaner (DEBUG)> created at path: ../logs/cleaner_root.log\n",
      "Data cleaner in action\n",
      "--> <Logger dataVisualizer (WARNING)>\n",
      "logger <Logger dataVisualizer (DEBUG)> created at path: ../logs/visualizer_root.log\n",
      "Data visualizer in action\n"
     ]
    }
   ],
   "source": [
    "# adding and setting up scripts\n",
    "sys.path.append('.')\n",
    "sys.path.append('..')\n",
    "sys.path.insert(1, '../scripts/')\n",
    "import defaults as defs\n",
    "import dataCleaner as dc\n",
    "import dataVisualizer as dv\n",
    "\n",
    "cleaner = dc.dataCleaner('data preparation notebook')\n",
    "visualizer = dv.dataVisualizer('data preparation notebook')"
   ]
  },
  {
   "cell_type": "code",
   "execution_count": 3,
   "metadata": {},
   "outputs": [
    {
     "name": "stdout",
     "output_type": "stream",
     "text": [
      "news data path: /home/f0x-tr0t/Documents/dvc-store//50/1fbc56d932bcb51d74876281ec8f71\n"
     ]
    }
   ],
   "source": [
    "# pandas settings\n",
    "pd.set_option('display.max_columns', 30)\n",
    "\n",
    "# version of the data\n",
    "# v1 : local-store\n",
    "version = 'v1'\n",
    "\n",
    "# set up the dat url\n",
    "news_url = dvc.api.get_url(path = defs.news_local_path, \n",
    "                       repo = defs.repo, \n",
    "                       rev = version)\n",
    "\n",
    "# print news path\n",
    "print(f'news data path: {news_url}')"
   ]
  },
  {
   "cell_type": "code",
   "execution_count": 4,
   "metadata": {},
   "outputs": [],
   "source": [
    "# reading csv files\n",
    "DateCols = ['timestamp']\n",
    "missing_values = [\"n/a\", \"na\", \"undefined\", '?', 'NA', 'undefined']\n",
    "\n",
    "news_data = pd.read_csv(news_url, na_values=missing_values, parse_dates=DateCols, low_memory=False)"
   ]
  },
  {
   "cell_type": "markdown",
   "metadata": {},
   "source": [
    "# EDA"
   ]
  },
  {
   "cell_type": "markdown",
   "metadata": {},
   "source": [
    "## News score data set"
   ]
  },
  {
   "cell_type": "code",
   "execution_count": 5,
   "metadata": {},
   "outputs": [
    {
     "data": {
      "text/html": [
       "<div>\n",
       "<style scoped>\n",
       "    .dataframe tbody tr th:only-of-type {\n",
       "        vertical-align: middle;\n",
       "    }\n",
       "\n",
       "    .dataframe tbody tr th {\n",
       "        vertical-align: top;\n",
       "    }\n",
       "\n",
       "    .dataframe thead th {\n",
       "        text-align: right;\n",
       "    }\n",
       "</style>\n",
       "<table border=\"1\" class=\"dataframe\">\n",
       "  <thead>\n",
       "    <tr style=\"text-align: right;\">\n",
       "      <th></th>\n",
       "      <th>Domain</th>\n",
       "      <th>Title</th>\n",
       "      <th>Description</th>\n",
       "      <th>Body</th>\n",
       "      <th>Link</th>\n",
       "      <th>timestamp</th>\n",
       "      <th>Analyst_Average_Score</th>\n",
       "      <th>Analyst_Rank</th>\n",
       "      <th>Reference_Final_Score</th>\n",
       "    </tr>\n",
       "  </thead>\n",
       "  <tbody>\n",
       "    <tr>\n",
       "      <th>0</th>\n",
       "      <td>rassegnastampa.news</td>\n",
       "      <td>Boris Johnson using a taxpayer-funded jet for ...</td>\n",
       "      <td>…often trigger a protest vote that can upset…t...</td>\n",
       "      <td>Boris Johnson using a taxpayer-funded jet for ...</td>\n",
       "      <td>https://rassegnastampa.news/boris-johnson-usin...</td>\n",
       "      <td>2021-09-09 18:17:46.258006</td>\n",
       "      <td>0.00</td>\n",
       "      <td>4</td>\n",
       "      <td>1.96</td>\n",
       "    </tr>\n",
       "    <tr>\n",
       "      <th>1</th>\n",
       "      <td>twitter.com</td>\n",
       "      <td>Stumbled across an interesting case, a woman f...</td>\n",
       "      <td>Stumbled across an interesting case, a woman f...</td>\n",
       "      <td>Stumbled across an interesting case, a woman f...</td>\n",
       "      <td>http://twitter.com/CoruscaKhaya/status/1435585...</td>\n",
       "      <td>2021-09-08 13:02:45.802298</td>\n",
       "      <td>0.00</td>\n",
       "      <td>4</td>\n",
       "      <td>12.00</td>\n",
       "    </tr>\n",
       "    <tr>\n",
       "      <th>2</th>\n",
       "      <td>atpe-tchad.info</td>\n",
       "      <td>Marché Résines dans les peintures et revêtemen...</td>\n",
       "      <td>…COVID-19…COVID…COVID…COVID-19 et Post COVID…C...</td>\n",
       "      <td>Le rapport d’étude de marché Résines dans les ...</td>\n",
       "      <td>http://atpe-tchad.info/2021/09/13/marche-resin...</td>\n",
       "      <td>2021-09-13 07:32:46.244403</td>\n",
       "      <td>0.00</td>\n",
       "      <td>4</td>\n",
       "      <td>0.05</td>\n",
       "    </tr>\n",
       "    <tr>\n",
       "      <th>3</th>\n",
       "      <td>badbluetech.bitnamiapp.com</td>\n",
       "      <td>AI drives data analytics surge, study finds</td>\n",
       "      <td>…hate raiders' linked to automated harassment ...</td>\n",
       "      <td>How to drive the funnel through content market...</td>\n",
       "      <td>http://badbluetech.bitnamiapp.com/p.php?sid=21...</td>\n",
       "      <td>2021-09-11 00:17:45.962605</td>\n",
       "      <td>0.00</td>\n",
       "      <td>4</td>\n",
       "      <td>6.10</td>\n",
       "    </tr>\n",
       "    <tr>\n",
       "      <th>4</th>\n",
       "      <td>kryptogazette.com</td>\n",
       "      <td>Triacetin Vertrieb Markt 2021: Globale Unterne...</td>\n",
       "      <td>…Abschnitten und Endanwendungen / Organisation...</td>\n",
       "      <td>Global Triacetin Vertrieb-Markt 2021 von Herst...</td>\n",
       "      <td>https://kryptogazette.com/2021/09/08/triacetin...</td>\n",
       "      <td>2021-09-08 12:47:46.078369</td>\n",
       "      <td>0.00</td>\n",
       "      <td>4</td>\n",
       "      <td>0.13</td>\n",
       "    </tr>\n",
       "    <tr>\n",
       "      <th>5</th>\n",
       "      <td>mype.co.za</td>\n",
       "      <td>Male arrested for the murder of an elderly fem...</td>\n",
       "      <td>…Crime Stamp Out…N1 and R101 roads appear in c...</td>\n",
       "      <td>South African Police Service Office of the Pro...</td>\n",
       "      <td>https://mype.co.za/new/male-arrested-for-the-m...</td>\n",
       "      <td>2021-09-10 00:17:46.055622</td>\n",
       "      <td>1.33</td>\n",
       "      <td>2</td>\n",
       "      <td>11.00</td>\n",
       "    </tr>\n",
       "    <tr>\n",
       "      <th>6</th>\n",
       "      <td>eminetra.co.za</td>\n",
       "      <td>7th Anniversary of SCOAN Collapse in Nigeria-S...</td>\n",
       "      <td>…in Lagos, Nigeria, 84 South Africans were kil...</td>\n",
       "      <td>Today is the 7th anniversary [Tragic collapse ...</td>\n",
       "      <td>https://eminetra.co.za/7th-anniversary-of-scoa...</td>\n",
       "      <td>2021-09-12 05:17:50.279081</td>\n",
       "      <td>0.00</td>\n",
       "      <td>4</td>\n",
       "      <td>10.10</td>\n",
       "    </tr>\n",
       "    <tr>\n",
       "      <th>7</th>\n",
       "      <td>eminetra.co.za</td>\n",
       "      <td>The construction sector is expected to be boos...</td>\n",
       "      <td>…additional spending on buildings, repairs and...</td>\n",
       "      <td>Construction activity grew steadily by 4% in t...</td>\n",
       "      <td>https://eminetra.co.za/the-construction-sector...</td>\n",
       "      <td>2021-09-09 09:02:46.320793</td>\n",
       "      <td>1.66</td>\n",
       "      <td>1</td>\n",
       "      <td>1.36</td>\n",
       "    </tr>\n",
       "    <tr>\n",
       "      <th>8</th>\n",
       "      <td>news24.com</td>\n",
       "      <td>News24.com | Court dismisses attempt by former...</td>\n",
       "      <td>…Lawsuit Against Public Participation) designe...</td>\n",
       "      <td>- Former Eskom CEO Matshela Moses Koko sought ...</td>\n",
       "      <td>https://www.news24.com/news24/southafrica/news...</td>\n",
       "      <td>2021-09-09 19:32:46.239682</td>\n",
       "      <td>0.33</td>\n",
       "      <td>3</td>\n",
       "      <td>2.40</td>\n",
       "    </tr>\n",
       "    <tr>\n",
       "      <th>9</th>\n",
       "      <td>manometcurrent.com</td>\n",
       "      <td>Global and Regional Beta-Carotene Market Resea...</td>\n",
       "      <td>…key players! – DSM – BASF – Allied Biotech – ...</td>\n",
       "      <td>Global and Regional Beta-Carotene Market Resea...</td>\n",
       "      <td>https://manometcurrent.com/global-and-regional...</td>\n",
       "      <td>2021-09-13 03:02:45.609228</td>\n",
       "      <td>0.00</td>\n",
       "      <td>4</td>\n",
       "      <td>0.22</td>\n",
       "    </tr>\n",
       "  </tbody>\n",
       "</table>\n",
       "</div>"
      ],
      "text/plain": [
       "                       Domain  \\\n",
       "0         rassegnastampa.news   \n",
       "1                 twitter.com   \n",
       "2             atpe-tchad.info   \n",
       "3  badbluetech.bitnamiapp.com   \n",
       "4           kryptogazette.com   \n",
       "5                  mype.co.za   \n",
       "6              eminetra.co.za   \n",
       "7              eminetra.co.za   \n",
       "8                  news24.com   \n",
       "9          manometcurrent.com   \n",
       "\n",
       "                                               Title  \\\n",
       "0  Boris Johnson using a taxpayer-funded jet for ...   \n",
       "1  Stumbled across an interesting case, a woman f...   \n",
       "2  Marché Résines dans les peintures et revêtemen...   \n",
       "3        AI drives data analytics surge, study finds   \n",
       "4  Triacetin Vertrieb Markt 2021: Globale Unterne...   \n",
       "5  Male arrested for the murder of an elderly fem...   \n",
       "6  7th Anniversary of SCOAN Collapse in Nigeria-S...   \n",
       "7  The construction sector is expected to be boos...   \n",
       "8  News24.com | Court dismisses attempt by former...   \n",
       "9  Global and Regional Beta-Carotene Market Resea...   \n",
       "\n",
       "                                         Description  \\\n",
       "0  …often trigger a protest vote that can upset…t...   \n",
       "1  Stumbled across an interesting case, a woman f...   \n",
       "2  …COVID-19…COVID…COVID…COVID-19 et Post COVID…C...   \n",
       "3  …hate raiders' linked to automated harassment ...   \n",
       "4  …Abschnitten und Endanwendungen / Organisation...   \n",
       "5  …Crime Stamp Out…N1 and R101 roads appear in c...   \n",
       "6  …in Lagos, Nigeria, 84 South Africans were kil...   \n",
       "7  …additional spending on buildings, repairs and...   \n",
       "8  …Lawsuit Against Public Participation) designe...   \n",
       "9  …key players! – DSM – BASF – Allied Biotech – ...   \n",
       "\n",
       "                                                Body  \\\n",
       "0  Boris Johnson using a taxpayer-funded jet for ...   \n",
       "1  Stumbled across an interesting case, a woman f...   \n",
       "2  Le rapport d’étude de marché Résines dans les ...   \n",
       "3  How to drive the funnel through content market...   \n",
       "4  Global Triacetin Vertrieb-Markt 2021 von Herst...   \n",
       "5  South African Police Service Office of the Pro...   \n",
       "6  Today is the 7th anniversary [Tragic collapse ...   \n",
       "7  Construction activity grew steadily by 4% in t...   \n",
       "8  - Former Eskom CEO Matshela Moses Koko sought ...   \n",
       "9  Global and Regional Beta-Carotene Market Resea...   \n",
       "\n",
       "                                                Link  \\\n",
       "0  https://rassegnastampa.news/boris-johnson-usin...   \n",
       "1  http://twitter.com/CoruscaKhaya/status/1435585...   \n",
       "2  http://atpe-tchad.info/2021/09/13/marche-resin...   \n",
       "3  http://badbluetech.bitnamiapp.com/p.php?sid=21...   \n",
       "4  https://kryptogazette.com/2021/09/08/triacetin...   \n",
       "5  https://mype.co.za/new/male-arrested-for-the-m...   \n",
       "6  https://eminetra.co.za/7th-anniversary-of-scoa...   \n",
       "7  https://eminetra.co.za/the-construction-sector...   \n",
       "8  https://www.news24.com/news24/southafrica/news...   \n",
       "9  https://manometcurrent.com/global-and-regional...   \n",
       "\n",
       "                   timestamp  Analyst_Average_Score  Analyst_Rank  \\\n",
       "0 2021-09-09 18:17:46.258006                   0.00             4   \n",
       "1 2021-09-08 13:02:45.802298                   0.00             4   \n",
       "2 2021-09-13 07:32:46.244403                   0.00             4   \n",
       "3 2021-09-11 00:17:45.962605                   0.00             4   \n",
       "4 2021-09-08 12:47:46.078369                   0.00             4   \n",
       "5 2021-09-10 00:17:46.055622                   1.33             2   \n",
       "6 2021-09-12 05:17:50.279081                   0.00             4   \n",
       "7 2021-09-09 09:02:46.320793                   1.66             1   \n",
       "8 2021-09-09 19:32:46.239682                   0.33             3   \n",
       "9 2021-09-13 03:02:45.609228                   0.00             4   \n",
       "\n",
       "   Reference_Final_Score  \n",
       "0                   1.96  \n",
       "1                  12.00  \n",
       "2                   0.05  \n",
       "3                   6.10  \n",
       "4                   0.13  \n",
       "5                  11.00  \n",
       "6                  10.10  \n",
       "7                   1.36  \n",
       "8                   2.40  \n",
       "9                   0.22  "
      ]
     },
     "execution_count": 5,
     "metadata": {},
     "output_type": "execute_result"
    }
   ],
   "source": [
    "news_data"
   ]
  },
  {
   "cell_type": "code",
   "execution_count": 6,
   "metadata": {},
   "outputs": [
    {
     "name": "stdout",
     "output_type": "stream",
     "text": [
      "<class 'pandas.core.frame.DataFrame'>\n",
      "RangeIndex: 10 entries, 0 to 9\n",
      "Data columns (total 9 columns):\n",
      " #   Column                 Non-Null Count  Dtype         \n",
      "---  ------                 --------------  -----         \n",
      " 0   Domain                 10 non-null     object        \n",
      " 1   Title                  10 non-null     object        \n",
      " 2   Description            10 non-null     object        \n",
      " 3   Body                   10 non-null     object        \n",
      " 4   Link                   10 non-null     object        \n",
      " 5   timestamp              10 non-null     datetime64[ns]\n",
      " 6   Analyst_Average_Score  10 non-null     float64       \n",
      " 7   Analyst_Rank           10 non-null     int64         \n",
      " 8   Reference_Final_Score  10 non-null     float64       \n",
      "dtypes: datetime64[ns](1), float64(2), int64(1), object(5)\n",
      "memory usage: 848.0+ bytes\n"
     ]
    }
   ],
   "source": [
    "news_data.info()"
   ]
  },
  {
   "cell_type": "markdown",
   "metadata": {},
   "source": [
    "### Data types"
   ]
  },
  {
   "cell_type": "code",
   "execution_count": 7,
   "metadata": {},
   "outputs": [
    {
     "data": {
      "text/plain": [
       "Domain                           object\n",
       "Title                            object\n",
       "Description                      object\n",
       "Body                             object\n",
       "Link                             object\n",
       "timestamp                datetime64[ns]\n",
       "Analyst_Average_Score           float64\n",
       "Analyst_Rank                      int64\n",
       "Reference_Final_Score           float64\n",
       "dtype: object"
      ]
     },
     "execution_count": 7,
     "metadata": {},
     "output_type": "execute_result"
    }
   ],
   "source": [
    "news_data.dtypes"
   ]
  },
  {
   "cell_type": "markdown",
   "metadata": {},
   "source": [
    "* We have 5 string or object data types\n",
    "* 1 date time data type\n",
    "* 2 floating numbers and\n",
    "* 1 integer"
   ]
  },
  {
   "cell_type": "markdown",
   "metadata": {},
   "source": [
    "### Missing values and empty strings"
   ]
  },
  {
   "cell_type": "code",
   "execution_count": 8,
   "metadata": {},
   "outputs": [
    {
     "name": "stdout",
     "output_type": "stream",
     "text": [
      "The dataset contains 0.0 % missing values\n"
     ]
    }
   ],
   "source": [
    "cleaner.percent_missing(news_data)"
   ]
  },
  {
   "cell_type": "code",
   "execution_count": 9,
   "metadata": {},
   "outputs": [
    {
     "data": {
      "text/plain": [
       "Domain                   0\n",
       "Title                    0\n",
       "Description              0\n",
       "Body                     0\n",
       "Link                     0\n",
       "timestamp                0\n",
       "Analyst_Average_Score    0\n",
       "Analyst_Rank             0\n",
       "Reference_Final_Score    0\n",
       "dtype: int64"
      ]
     },
     "execution_count": 9,
     "metadata": {},
     "output_type": "execute_result"
    }
   ],
   "source": [
    "news_data.isna().sum()"
   ]
  },
  {
   "cell_type": "markdown",
   "metadata": {},
   "source": [
    "* No null values"
   ]
  },
  {
   "cell_type": "markdown",
   "metadata": {},
   "source": [
    "### Duplicates"
   ]
  },
  {
   "cell_type": "code",
   "execution_count": 10,
   "metadata": {},
   "outputs": [
    {
     "name": "stdout",
     "output_type": "stream",
     "text": [
      "No duplicate rows were found.\n"
     ]
    }
   ],
   "source": [
    "# search for duplicate rows and drop them\n",
    "cleaner.drop_duplicates(news_data)"
   ]
  },
  {
   "cell_type": "markdown",
   "metadata": {},
   "source": [
    "### Feature descriptions"
   ]
  },
  {
   "cell_type": "markdown",
   "metadata": {},
   "source": [
    "* Domain - the base URL or a reference to the source these item comes from \n",
    "* Title - title of the item - the content of the item\n",
    "* Description - the content of the item\n",
    "* Body - the content of the item\n",
    "* Link - URL to the item source (it may not functional anymore sometime)\n",
    "* Timestamp - timestamp that this item was collected at\n",
    "* Analyst_Average_Score -  target variable - the score to be estimated \n",
    "* Analyst_Rank - score as rank\n",
    "* Reference_Final_Score - Not relevant for now - it is a transformed quantity"
   ]
  },
  {
   "cell_type": "markdown",
   "metadata": {},
   "source": [
    "### Numerical summary"
   ]
  },
  {
   "cell_type": "code",
   "execution_count": 11,
   "metadata": {},
   "outputs": [
    {
     "data": {
      "text/html": [
       "<div>\n",
       "<style scoped>\n",
       "    .dataframe tbody tr th:only-of-type {\n",
       "        vertical-align: middle;\n",
       "    }\n",
       "\n",
       "    .dataframe tbody tr th {\n",
       "        vertical-align: top;\n",
       "    }\n",
       "\n",
       "    .dataframe thead th {\n",
       "        text-align: right;\n",
       "    }\n",
       "</style>\n",
       "<table border=\"1\" class=\"dataframe\">\n",
       "  <thead>\n",
       "    <tr style=\"text-align: right;\">\n",
       "      <th></th>\n",
       "      <th>count</th>\n",
       "      <th>mean</th>\n",
       "      <th>std</th>\n",
       "      <th>min</th>\n",
       "      <th>25%</th>\n",
       "      <th>50%</th>\n",
       "      <th>75%</th>\n",
       "      <th>max</th>\n",
       "    </tr>\n",
       "  </thead>\n",
       "  <tbody>\n",
       "    <tr>\n",
       "      <th>Analyst_Average_Score</th>\n",
       "      <td>10.0</td>\n",
       "      <td>0.332</td>\n",
       "      <td>0.626379</td>\n",
       "      <td>0.00</td>\n",
       "      <td>0.000</td>\n",
       "      <td>0.00</td>\n",
       "      <td>0.2475</td>\n",
       "      <td>1.66</td>\n",
       "    </tr>\n",
       "    <tr>\n",
       "      <th>Analyst_Rank</th>\n",
       "      <td>10.0</td>\n",
       "      <td>3.400</td>\n",
       "      <td>1.074968</td>\n",
       "      <td>1.00</td>\n",
       "      <td>3.250</td>\n",
       "      <td>4.00</td>\n",
       "      <td>4.0000</td>\n",
       "      <td>4.00</td>\n",
       "    </tr>\n",
       "    <tr>\n",
       "      <th>Reference_Final_Score</th>\n",
       "      <td>10.0</td>\n",
       "      <td>4.532</td>\n",
       "      <td>4.834468</td>\n",
       "      <td>0.05</td>\n",
       "      <td>0.505</td>\n",
       "      <td>2.18</td>\n",
       "      <td>9.1000</td>\n",
       "      <td>12.00</td>\n",
       "    </tr>\n",
       "  </tbody>\n",
       "</table>\n",
       "</div>"
      ],
      "text/plain": [
       "                       count   mean       std   min    25%   50%     75%  \\\n",
       "Analyst_Average_Score   10.0  0.332  0.626379  0.00  0.000  0.00  0.2475   \n",
       "Analyst_Rank            10.0  3.400  1.074968  1.00  3.250  4.00  4.0000   \n",
       "Reference_Final_Score   10.0  4.532  4.834468  0.05  0.505  2.18  9.1000   \n",
       "\n",
       "                         max  \n",
       "Analyst_Average_Score   1.66  \n",
       "Analyst_Rank            4.00  \n",
       "Reference_Final_Score  12.00  "
      ]
     },
     "execution_count": 11,
     "metadata": {},
     "output_type": "execute_result"
    }
   ],
   "source": [
    "news_data.describe().transpose()"
   ]
  },
  {
   "cell_type": "markdown",
   "metadata": {},
   "source": [
    "* Average analyst score:\n",
    "    * min: 0: the lowest news protest score\n",
    "    * max: 1.66: the highest news protest score \n",
    "    * mean: 0.332: most news do not indicate high signs of social protest\n",
    "    * standard deviation: 0.6"
   ]
  },
  {
   "cell_type": "markdown",
   "metadata": {},
   "source": [
    "* Analyst_Rank:\n",
    "    * min: 1: minimum analyst rank\n",
    "    * max: 4: maximum analyst rank\n",
    "    * mean: 3.4: the average number of ranks: most analystRanks are high\n",
    "    * standard deviation: 1.07"
   ]
  },
  {
   "cell_type": "code",
   "execution_count": 17,
   "metadata": {},
   "outputs": [
    {
     "data": {
      "text/plain": [
       "(10, 9)"
      ]
     },
     "execution_count": 17,
     "metadata": {},
     "output_type": "execute_result"
    }
   ],
   "source": [
    "news_data.shape"
   ]
  },
  {
   "cell_type": "code",
   "execution_count": 12,
   "metadata": {},
   "outputs": [
    {
     "data": {
      "text/html": [
       "<div>\n",
       "<style scoped>\n",
       "    .dataframe tbody tr th:only-of-type {\n",
       "        vertical-align: middle;\n",
       "    }\n",
       "\n",
       "    .dataframe tbody tr th {\n",
       "        vertical-align: top;\n",
       "    }\n",
       "\n",
       "    .dataframe thead th {\n",
       "        text-align: right;\n",
       "    }\n",
       "</style>\n",
       "<table border=\"1\" class=\"dataframe\">\n",
       "  <thead>\n",
       "    <tr style=\"text-align: right;\">\n",
       "      <th></th>\n",
       "      <th>Analyst_Rank</th>\n",
       "      <th>Analyst_Average_Score</th>\n",
       "      <th>Reference_Final_Score</th>\n",
       "    </tr>\n",
       "  </thead>\n",
       "  <tbody>\n",
       "    <tr>\n",
       "      <th>0</th>\n",
       "      <td>4</td>\n",
       "      <td>0.00</td>\n",
       "      <td>1.96</td>\n",
       "    </tr>\n",
       "    <tr>\n",
       "      <th>1</th>\n",
       "      <td>4</td>\n",
       "      <td>0.00</td>\n",
       "      <td>12.00</td>\n",
       "    </tr>\n",
       "    <tr>\n",
       "      <th>2</th>\n",
       "      <td>4</td>\n",
       "      <td>0.00</td>\n",
       "      <td>0.05</td>\n",
       "    </tr>\n",
       "    <tr>\n",
       "      <th>3</th>\n",
       "      <td>4</td>\n",
       "      <td>0.00</td>\n",
       "      <td>6.10</td>\n",
       "    </tr>\n",
       "    <tr>\n",
       "      <th>4</th>\n",
       "      <td>4</td>\n",
       "      <td>0.00</td>\n",
       "      <td>0.13</td>\n",
       "    </tr>\n",
       "    <tr>\n",
       "      <th>5</th>\n",
       "      <td>2</td>\n",
       "      <td>1.33</td>\n",
       "      <td>11.00</td>\n",
       "    </tr>\n",
       "    <tr>\n",
       "      <th>6</th>\n",
       "      <td>4</td>\n",
       "      <td>0.00</td>\n",
       "      <td>10.10</td>\n",
       "    </tr>\n",
       "    <tr>\n",
       "      <th>7</th>\n",
       "      <td>1</td>\n",
       "      <td>1.66</td>\n",
       "      <td>1.36</td>\n",
       "    </tr>\n",
       "    <tr>\n",
       "      <th>8</th>\n",
       "      <td>3</td>\n",
       "      <td>0.33</td>\n",
       "      <td>2.40</td>\n",
       "    </tr>\n",
       "    <tr>\n",
       "      <th>9</th>\n",
       "      <td>4</td>\n",
       "      <td>0.00</td>\n",
       "      <td>0.22</td>\n",
       "    </tr>\n",
       "  </tbody>\n",
       "</table>\n",
       "</div>"
      ],
      "text/plain": [
       "   Analyst_Rank  Analyst_Average_Score  Reference_Final_Score\n",
       "0             4                   0.00                   1.96\n",
       "1             4                   0.00                  12.00\n",
       "2             4                   0.00                   0.05\n",
       "3             4                   0.00                   6.10\n",
       "4             4                   0.00                   0.13\n",
       "5             2                   1.33                  11.00\n",
       "6             4                   0.00                  10.10\n",
       "7             1                   1.66                   1.36\n",
       "8             3                   0.33                   2.40\n",
       "9             4                   0.00                   0.22"
      ]
     },
     "execution_count": 12,
     "metadata": {},
     "output_type": "execute_result"
    }
   ],
   "source": [
    "news_data[['Analyst_Rank', 'Analyst_Average_Score', 'Reference_Final_Score']]"
   ]
  },
  {
   "cell_type": "markdown",
   "metadata": {},
   "source": [
    "* News index 7 and 5 seem to have a very high score\n",
    "* Indication of a high probability social protest"
   ]
  },
  {
   "cell_type": "markdown",
   "metadata": {},
   "source": [
    "### Taking a look at high score news"
   ]
  },
  {
   "cell_type": "code",
   "execution_count": 13,
   "metadata": {},
   "outputs": [
    {
     "data": {
      "text/plain": [
       "Index(['Domain', 'Title', 'Description', 'Body', 'Link', 'timestamp',\n",
       "       'Analyst_Average_Score', 'Analyst_Rank', 'Reference_Final_Score'],\n",
       "      dtype='object')"
      ]
     },
     "execution_count": 13,
     "metadata": {},
     "output_type": "execute_result"
    }
   ],
   "source": [
    "news_data.columns"
   ]
  },
  {
   "cell_type": "code",
   "execution_count": 14,
   "metadata": {},
   "outputs": [
    {
     "data": {
      "text/plain": [
       "'Construction activity grew steadily by 4% in the second quarter of the first three months of 2021 and recovered quickly and significantly in the same quarter of 2020 due to the low base effect of Covid. Famous economist Dr. Roerofubota said yesterday. In the announcement of the Afrimat Construction Index (ACI), and on behalf of Afrimat, he said ACI reached 110.3 points in the second half of 2021 and reached a 55% rebound compared to the same quarter last year. .. The construction industry continues to improve, he said in a telephone interview. Quarterly improvements were driven by a significant increase in employment in the construction sector and sales of building materials. Since the second quarter of 2020, the construction industry has created approximately 156,000 jobs. Bota said other promising improvements in the building blocks are the value of the building plans passed and the value of the buildings completed by the larger municipalities of the country. “Unfortunately, the post-pandemic construction recovery remains incomplete, with the second quarter 6.8% behind Covid, the same quarter of 2019.” But Bota said he was confident that it would continue. Damage to buildings from July riots and looting, and potential additional spending on buildings, repairs and security in KwaZulu-Natal and Houten could boost construction activity in the third and perhaps fourth quarters He said it was highly sexual. .. Inflation has begun to fall in recent months, well below the South African Reserve Bank’s upper inflation target. This means that interest rates may remain low until 2022. “A 30% reduction in the cost of mortgages at prime rates has already helped us to return to higher home prices and increase the value of new mortgages,” he said. In addition, two business confidences recorded an immediate recovery from the decline following the July unrest. According to Bota, several companies that have a strong foothold in the construction sector’s value chain have recently released impressive financial results. Examples include JSE-listed Cashbuild and Murray & Roberts, which show that purchase orders have reached a new record of R60.7 billion. “But now all eyes will focus on the government’s reconstruction and reconstruction plans. It’s far behind the starting block.” He hopes that further relaxation of blockade regulations and tax jackpots against the backdrop of record mining sector interests will contribute to the faster implementation of this plan. Andries van Heerden, CEO of Afrimat, is slowly but feeling positive economic momentum within the group to accelerate the long-awaited infrastructure project ready to run the business. He said he needed momentum and commitment from the government. The construction sector is expected to be boosted by riots and looting repairs [Source link](//www.iol.co.za/business-report/companies/construction-sector-projected-to-be-boosted-by-rioting-and-looting-repairs-0d6b4e8f-c456-4f70-8b93-7c8fc591d1c1) The construction sector is expected to be boosted by riots and looting repairs'"
      ]
     },
     "execution_count": 14,
     "metadata": {},
     "output_type": "execute_result"
    }
   ],
   "source": [
    "news_data.iloc[7, 3]"
   ]
  },
  {
   "cell_type": "code",
   "execution_count": 15,
   "metadata": {},
   "outputs": [
    {
     "data": {
      "text/plain": [
       "'South African Police Service Office of the Provincial Commissioner Eastern Cape EASTERN CAPE – A 42-year-old male suspect was arrested yesterday, Wednesday 8 September 2021 at about 10:00 for the murder of an 80-year-old female in the Epesikeni location Ngqwaru A/A in Cofimvaba. It is alleged that during the morning of Wednesday, neighbors found the door at the deceased’s homestead open. On further investigation it’s where the lifeless body was discovered, covered up, laying on the bed. They also found a known suspect hiding in the room, and after questioning him he reported that he found the lady on her bed sleeping and the suspect then ran away. After the suspect set his house on fire he was rescued by Cofimvaba Visible Police members who arrested him on a charge of murder. According to the suspect the motive for the murder was revenge. The suspect will appear before the Cofimvaba Magistrates Court tomorrow, 10 September 2021 on charges related to Murder. Join Your Neighbourhood Watch Enquiries: Captain Lariane Jonker 082 301 8552 Twitter: https://twitter.com/SAPoliceService Report Every Crime Stamp Out Fraud and Corruption Be the Eyes and Ears for the SAPS in your Street #aim4change Port Elizabethan - [Suspects arrested for allegedly committing robberies against motorists by placing spikes on the N1 and R101 roads appear in court – SAPS Crime Report: 2021-09-09 13:07:58] - 10 September 2021 - [Male arrested for the murder of an elderly female in Cofimvaba – SAPS Crime Report: 2021-09-09 13:22:58] - 10 September 2021 - [Three suspects appeared in court for business robbery – SAPS Crime Report: 2021-09-09 14:05:02] - 9 September 2021 - [Firearm recovered, three suspects in court – SAPS Crime Report: 2021-09-09 14:20:02] - 9 September 2021 - [Two more suspects behind bars in connection with a foiled robbery – SAPS Crime Report: 2021-09-09 19:38:59] - 9 September 2021'"
      ]
     },
     "execution_count": 15,
     "metadata": {},
     "output_type": "execute_result"
    }
   ],
   "source": [
    "news_data.iloc[5, 3]"
   ]
  },
  {
   "cell_type": "markdown",
   "metadata": {},
   "source": [
    "* This are the two highest score newses"
   ]
  },
  {
   "cell_type": "markdown",
   "metadata": {},
   "source": [
    "### Save data set to image for cml"
   ]
  },
  {
   "cell_type": "code",
   "execution_count": 16,
   "metadata": {},
   "outputs": [
    {
     "name": "stderr",
     "output_type": "stream",
     "text": [
      "[0914/223441.081033:WARNING:sandbox_linux.cc(376)] InitializeSandbox() called with multiple threads in process gpu-process.\n",
      "[0914/223441.466096:WARNING:bluez_dbus_manager.cc(247)] Floss manager not present, cannot set Floss enable/disable.\n",
      "[0914/223441.844938:INFO:headless_shell.cc(660)] Written to file /tmp/tmppjjl9cel/temp.png.\n",
      "[0914/223442.204357:WARNING:sandbox_linux.cc(376)] InitializeSandbox() called with multiple threads in process gpu-process.\n",
      "[0914/223442.482829:WARNING:bluez_dbus_manager.cc(247)] Floss manager not present, cannot set Floss enable/disable.\n",
      "[0914/223443.130360:INFO:headless_shell.cc(660)] Written to file /tmp/tmp1wa67kbl/temp.png.\n",
      "[0914/223443.664499:WARNING:sandbox_linux.cc(376)] InitializeSandbox() called with multiple threads in process gpu-process.\n",
      "[0914/223443.918471:WARNING:bluez_dbus_manager.cc(247)] Floss manager not present, cannot set Floss enable/disable.\n",
      "[0914/223444.657932:INFO:headless_shell.cc(660)] Written to file /tmp/tmp0ctnshin/temp.png.\n"
     ]
    }
   ],
   "source": [
    "dfi.export(news_data, '../plots/news_data.png', max_rows=20)"
   ]
  }
 ],
 "metadata": {
  "kernelspec": {
   "display_name": "Python 3.10.4 64-bit",
   "language": "python",
   "name": "python3"
  },
  "language_info": {
   "codemirror_mode": {
    "name": "ipython",
    "version": 3
   },
   "file_extension": ".py",
   "mimetype": "text/x-python",
   "name": "python",
   "nbconvert_exporter": "python",
   "pygments_lexer": "ipython3",
   "version": "3.10.4"
  },
  "orig_nbformat": 4,
  "vscode": {
   "interpreter": {
    "hash": "916dbcbb3f70747c44a77c7bcd40155683ae19c65e1c03b4aa3499c5328201f1"
   }
  }
 },
 "nbformat": 4,
 "nbformat_minor": 2
}
