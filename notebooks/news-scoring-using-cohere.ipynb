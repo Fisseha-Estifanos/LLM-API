{
 "cells": [
  {
   "cell_type": "code",
   "execution_count": 1,
   "metadata": {},
   "outputs": [],
   "source": [
    "# imports\n",
    "import os\n",
    "import sys\n",
    "import dvc.api\n",
    "import pandas as pd\n",
    "import dataframe_image as dfi\n",
    "from dotenv import load_dotenv\n",
    "import cohere\n",
    "from cohere.classify import Example\n",
    "import warnings\n",
    "warnings.filterwarnings('ignore')"
   ]
  },
  {
   "cell_type": "code",
   "execution_count": 2,
   "metadata": {},
   "outputs": [
    {
     "name": "stdout",
     "output_type": "stream",
     "text": [
      "--> <Logger dataCleaner (WARNING)>\n",
      "logger <Logger dataCleaner (DEBUG)> created at path: ../logs/cleaner_root.log\n",
      "Data cleaner in action\n",
      "--> <Logger dataVisualizer (WARNING)>\n",
      "logger <Logger dataVisualizer (DEBUG)> created at path: ../logs/visualizer_root.log\n",
      "Data visualizer in action\n"
     ]
    }
   ],
   "source": [
    "# adding and setting up scripts\n",
    "sys.path.append('.')\n",
    "sys.path.append('..')\n",
    "sys.path.insert(1, '../scripts/')\n",
    "import defaults as defs\n",
    "import dataCleaner as dc\n",
    "import dataVisualizer as dv\n",
    "# load your environment\n",
    "load_dotenv()\n",
    "# use your own api key here\n",
    "cohere_api_key = os.getenv('cohere_api_key')\n",
    "cleaner = dc.dataCleaner('news scoring using co:here API notebook')\n",
    "visualizer = dv.dataVisualizer('news scoring using co:here API notebook')"
   ]
  },
  {
   "cell_type": "code",
   "execution_count": 3,
   "metadata": {},
   "outputs": [
    {
     "name": "stdout",
     "output_type": "stream",
     "text": [
      "news data path: /home/f0x-tr0t/Documents/dvc-store//50/1fbc56d932bcb51d74876281ec8f71\n"
     ]
    }
   ],
   "source": [
    "# pandas settings\n",
    "pd.set_option('display.max_columns', 30)\n",
    "\n",
    "# version of the data\n",
    "# v1 : local-store\n",
    "version = 'v1'\n",
    "\n",
    "# set up the dat url\n",
    "news_url = dvc.api.get_url(path = defs.news_local_path, \n",
    "                       repo = defs.repo, \n",
    "                       rev = version)\n",
    "\n",
    "# print news path\n",
    "print(f'news data path: {news_url}')"
   ]
  },
  {
   "cell_type": "code",
   "execution_count": 4,
   "metadata": {},
   "outputs": [],
   "source": [
    "# reading csv files\n",
    "DateCols = ['timestamp']\n",
    "missing_values = [\"n/a\", \"na\", \"undefined\", '?', 'NA', 'undefined']\n",
    "\n",
    "news_data = pd.read_csv(news_url, na_values=missing_values, parse_dates=DateCols, low_memory=False)"
   ]
  },
  {
   "cell_type": "markdown",
   "metadata": {},
   "source": [
    "# News scoring using co:here API"
   ]
  },
  {
   "cell_type": "markdown",
   "metadata": {},
   "source": [
    "## Using the classification feature"
   ]
  },
  {
   "cell_type": "code",
   "execution_count": 5,
   "metadata": {},
   "outputs": [],
   "source": [
    "# setting up api key\n",
    "# use your own api key here\n",
    "co = cohere.Client(cohere_api_key)"
   ]
  },
  {
   "cell_type": "markdown",
   "metadata": {},
   "source": [
    "### Setting up model parameters"
   ]
  },
  {
   "cell_type": "code",
   "execution_count": 6,
   "metadata": {},
   "outputs": [
    {
     "data": {
      "text/plain": [
       "Index(['Domain', 'Title', 'Description', 'Body', 'Link', 'timestamp',\n",
       "       'Analyst_Average_Score', 'Analyst_Rank', 'Reference_Final_Score'],\n",
       "      dtype='object')"
      ]
     },
     "execution_count": 6,
     "metadata": {},
     "output_type": "execute_result"
    }
   ],
   "source": [
    "news_data.columns"
   ]
  },
  {
   "cell_type": "markdown",
   "metadata": {},
   "source": [
    "* As we have seen in the demo, it will be best to classify the scores first prior to requesting the API"
   ]
  },
  {
   "cell_type": "code",
   "execution_count": 7,
   "metadata": {},
   "outputs": [
    {
     "data": {
      "text/plain": [
       "0.00    7\n",
       "1.33    1\n",
       "1.66    1\n",
       "0.33    1\n",
       "Name: Analyst_Average_Score, dtype: int64"
      ]
     },
     "execution_count": 7,
     "metadata": {},
     "output_type": "execute_result"
    }
   ],
   "source": [
    "news_data['Analyst_Average_Score'].value_counts()"
   ]
  },
  {
   "cell_type": "code",
   "execution_count": 8,
   "metadata": {},
   "outputs": [
    {
     "data": {
      "text/plain": [
       "4    7\n",
       "2    1\n",
       "1    1\n",
       "3    1\n",
       "Name: Analyst_Rank, dtype: int64"
      ]
     },
     "execution_count": 8,
     "metadata": {},
     "output_type": "execute_result"
    }
   ],
   "source": [
    "news_data['Analyst_Rank'].value_counts()"
   ]
  },
  {
   "cell_type": "markdown",
   "metadata": {},
   "source": [
    "* We can classify the average score into 6 categories.\n",
    "    * 1- lovely    ---   below 0.33\n",
    "    * 2- good         ---    between 0.33 and 0.66\n",
    "    * 3- neutral      ---    between 0.66 and 1.22\n",
    "    * 4- risky      ---     between 1.22 and 1.55\n",
    "    * 5- detrimental --- greater than: 1.55"
   ]
  },
  {
   "cell_type": "code",
   "execution_count": 9,
   "metadata": {},
   "outputs": [],
   "source": [
    "def classifyBasedOnScore(df: pd.DataFrame) -> str:\n",
    "    \"\"\"\n",
    "    Classify based on score.\n",
    "    Parameters\n",
    "    =--------=\n",
    "    df: pandas dataframe\n",
    "        the data frame to classify\n",
    "    \"\"\"\n",
    "    if df['Analyst_Average_Score'] <= 0.33:\n",
    "        return 'lovely'\n",
    "    if df['Analyst_Average_Score'] <= 0.66:\n",
    "        return 'good'\n",
    "    if df['Analyst_Average_Score'] <= 1.22:\n",
    "        return 'neutral'\n",
    "    if df['Analyst_Average_Score'] <= 1.55:\n",
    "        return 'risky'\n",
    "    if df['Analyst_Average_Score'] > 1.55:\n",
    "        return 'detrimental'"
   ]
  },
  {
   "cell_type": "code",
   "execution_count": 10,
   "metadata": {},
   "outputs": [],
   "source": [
    "news_data['class'] = news_data.apply(lambda news_data: classifyBasedOnScore(df= news_data), axis=1)"
   ]
  },
  {
   "cell_type": "code",
   "execution_count": 11,
   "metadata": {},
   "outputs": [
    {
     "data": {
      "text/html": [
       "<div>\n",
       "<style scoped>\n",
       "    .dataframe tbody tr th:only-of-type {\n",
       "        vertical-align: middle;\n",
       "    }\n",
       "\n",
       "    .dataframe tbody tr th {\n",
       "        vertical-align: top;\n",
       "    }\n",
       "\n",
       "    .dataframe thead th {\n",
       "        text-align: right;\n",
       "    }\n",
       "</style>\n",
       "<table border=\"1\" class=\"dataframe\">\n",
       "  <thead>\n",
       "    <tr style=\"text-align: right;\">\n",
       "      <th></th>\n",
       "      <th>Analyst_Average_Score</th>\n",
       "      <th>class</th>\n",
       "    </tr>\n",
       "  </thead>\n",
       "  <tbody>\n",
       "    <tr>\n",
       "      <th>0</th>\n",
       "      <td>0.00</td>\n",
       "      <td>lovely</td>\n",
       "    </tr>\n",
       "    <tr>\n",
       "      <th>1</th>\n",
       "      <td>0.00</td>\n",
       "      <td>lovely</td>\n",
       "    </tr>\n",
       "    <tr>\n",
       "      <th>2</th>\n",
       "      <td>0.00</td>\n",
       "      <td>lovely</td>\n",
       "    </tr>\n",
       "    <tr>\n",
       "      <th>3</th>\n",
       "      <td>0.00</td>\n",
       "      <td>lovely</td>\n",
       "    </tr>\n",
       "    <tr>\n",
       "      <th>4</th>\n",
       "      <td>0.00</td>\n",
       "      <td>lovely</td>\n",
       "    </tr>\n",
       "    <tr>\n",
       "      <th>5</th>\n",
       "      <td>1.33</td>\n",
       "      <td>risky</td>\n",
       "    </tr>\n",
       "    <tr>\n",
       "      <th>6</th>\n",
       "      <td>0.00</td>\n",
       "      <td>lovely</td>\n",
       "    </tr>\n",
       "    <tr>\n",
       "      <th>7</th>\n",
       "      <td>1.66</td>\n",
       "      <td>detrimental</td>\n",
       "    </tr>\n",
       "    <tr>\n",
       "      <th>8</th>\n",
       "      <td>0.33</td>\n",
       "      <td>lovely</td>\n",
       "    </tr>\n",
       "    <tr>\n",
       "      <th>9</th>\n",
       "      <td>0.00</td>\n",
       "      <td>lovely</td>\n",
       "    </tr>\n",
       "  </tbody>\n",
       "</table>\n",
       "</div>"
      ],
      "text/plain": [
       "   Analyst_Average_Score        class\n",
       "0                   0.00       lovely\n",
       "1                   0.00       lovely\n",
       "2                   0.00       lovely\n",
       "3                   0.00       lovely\n",
       "4                   0.00       lovely\n",
       "5                   1.33        risky\n",
       "6                   0.00       lovely\n",
       "7                   1.66  detrimental\n",
       "8                   0.33       lovely\n",
       "9                   0.00       lovely"
      ]
     },
     "execution_count": 11,
     "metadata": {},
     "output_type": "execute_result"
    }
   ],
   "source": [
    "news_data[['Analyst_Average_Score', 'class']]"
   ]
  },
  {
   "cell_type": "markdown",
   "metadata": {},
   "source": [
    "* Now we can use this class feature for the co:here model"
   ]
  },
  {
   "cell_type": "code",
   "execution_count": 69,
   "metadata": {},
   "outputs": [],
   "source": [
    "# setting up classify parameters\n",
    "\n",
    "# model type to use\n",
    "model_type='large'\n",
    "\n",
    "examples = []\n",
    "for i in range(len(copy)):\n",
    "    examples.append(Example(copy.loc[i]['Body'], copy.loc[i]['class']))"
   ]
  },
  {
   "cell_type": "code",
   "execution_count": 72,
   "metadata": {},
   "outputs": [],
   "source": [
    "# TODO: change these to the news body\n",
    "# the news sentences (body) to get classification for\n",
    "classification_inputs=[\"Construction activity grew steadily by 4% in the second quarter of the first three months of 2021 and recovered quickly and significantly in the same quarter of 2020 due to the low base effect of Covid. Famous economist Dr. Roerofubota said yesterday. In the announcement of the Afrimat Construction Index (ACI), and on behalf of Afrimat, he said ACI reached 110.3 points in the second half of 2021 and reached a 55% rebound compared to the same quarter last year. .. The construction industry continues to improve, he said in a telephone interview. Quarterly improvements were driven by a significant increase in employment in the construction sector and sales of building materials. Since the second quarter of 2020, the construction industry has created approximately 156,000 jobs. Bota said other promising improvements in the building blocks are the value of the building plans passed and the value of the buildings completed by the larger municipalities of the country. “Unfortunately, the post-pandemic construction recovery remains incomplete, with the second quarter 6.8% behind Covid, the same quarter of 2019.” But Bota said he was confident that it would continue. Damage to buildings from July riots and looting, and potential additional spending on buildings, repairs and security in KwaZulu-Natal and Houten could boost construction activity in the third and perhaps fourth quarters He said it was highly sexual. .. Inflation has begun to fall in recent months, well below the South African Reserve Bank’s upper inflation target. This means that interest rates may remain low until 2022. “A 30% reduction in the cost of mortgages at prime rates has already helped us to return to higher home prices and increase the value of new mortgages,” he said. In addition, two business confidences recorded an immediate recovery from the decline following the July unrest. According to Bota, several companies that have a strong foothold in the construction sector’s value chain have recently released impressive financial results. Examples include JSE-listed Cashbuild and Murray & Roberts, which show that purchase orders have reached a new record of R60.7 billion. “But now all eyes will focus on the government’s reconstruction and reconstruction plans. It’s far behind the starting block.” He hopes that further relaxation of blockade regulations and tax jackpots against the backdrop of record mining sector interests will contribute to the faster implementation of this plan. Andries van Heerden, CEO of Afrimat, is slowly but feeling positive economic momentum within the group to accelerate the long-awaited infrastructure project ready to run the business. He said he needed momentum and commitment from the government. The construction sector is expected to be boosted by riots and looting repairs [Source link](//www.iol.co.za/business-report/companies/construction-sector-projected-to-be-boosted-by-rioting-and-looting-repairs-0d6b4e8f-c456-4f70-8b93-7c8fc591d1c1) The construction sector is expected to be boosted by riots and looting repairs\", \n",
    "\n",
    "'south African Police Service Office of the Provincial Commissioner Eastern Cape EASTERN CAPE – A 42-year-old male suspect was arrested yesterday, Wednesday 8 September 2021 at about 10:00 for the murder of an 80-year-old female in the Epesikeni location Ngqwaru A/A in Cofimvaba. It is alleged that during the morning of Wednesday, neighbors found the door at the deceased’s homestead open. On further investigation it’s where the lifeless body was discovered, covered up, laying on the bed. They also found a known suspect hiding in the room, and after questioning him he reported that he found the lady on her bed sleeping and the suspect then ran away. After the suspect set his house on fire he was rescued by Cofimvaba Visible Police members who arrested him on a charge of murder. According to the suspect the motive for the murder was revenge. The suspect will appear before the Cofimvaba Magistrates Court tomorrow, 10 September 2021 on charges related to Murder. Join Your Neighbourhood Watch Enquiries: Captain Lariane Jonker 082 301 8552 Twitter: https://twitter.com/SAPoliceService Report Every Crime Stamp Out Fraud and Corruption Be the Eyes and Ears for the SAPS in your Street #aim4change Port Elizabethan - [Suspects arrested for allegedly committing robberies against motorists by placing spikes on the N1 and R101 roads appear in court – SAPS Crime Report: 2021-09-09 13:07:58] - 10 September 2021 - [Male arrested for the murder of an elderly female in Cofimvaba – SAPS Crime Report: 2021-09-09 13:22:58] - 10 September 2021 - [Three suspects appeared in court for business robbery – SAPS Crime Report: 2021-09-09 14:05:02] - 9 September 2021 - [Firearm recovered, three suspects in court – SAPS Crime Report: 2021-09-09 14:20:02] - 9 September 2021 - [Two more suspects behind bars in connection with a foiled robbery – SAPS Crime Report: 2021-09-09 19:38:59] - 9 September 2021']"
   ]
  },
  {
   "cell_type": "code",
   "execution_count": 73,
   "metadata": {},
   "outputs": [
    {
     "ename": "CohereError",
     "evalue": "invalid request: the length of the prompt generated by the input \"Construction activity grew steadily by 4% in the second quarter of the first three months of 2021 and recovered quickly and significantly in the same quarter of 2020 due to the low base effect of Covid. Famous economist Dr. Roerofubota said yesterday. In the announcement of the Afrimat Construction Index (ACI), and on behalf of Afrimat, he said ACI reached 110.3 points in the second half of 2021 and reached a 55% rebound compared to the same quarter last year. .. The construction industry continues to improve, he said in a telephone interview. Quarterly improvements were driven by a significant increase in employment in the construction sector and sales of building materials. Since the second quarter of 2020, the construction industry has created approximately 156,000 jobs. Bota said other promising improvements in the building blocks are the value of the building plans passed and the value of the buildings completed by the larger municipalities of the country. “Unfortunately, the post-pandemic construction recovery remains incomplete, with the second quarter 6.8% behind Covid, the same quarter of 2019.” But Bota said he was confident that it would continue. Damage to buildings from July riots and looting, and potential additional spending on buildings, repairs and security in KwaZulu-Natal and Houten could boost construction activity in the third and perhaps fourth quarters He said it was highly sexual. .. Inflation has begun to fall in recent months, well below the South African Reserve Bank’s upper inflation target. This means that interest rates may remain low until 2022. “A 30% reduction in the cost of mortgages at prime rates has already helped us to return to higher home prices and increase the value of new mortgages,” he said. In addition, two business confidences recorded an immediate recovery from the decline following the July unrest. According to Bota, several companies that have a strong foothold in the construction sector’s value chain have recently released impressive financial results. Examples include JSE-listed Cashbuild and Murray & Roberts, which show that purchase orders have reached a new record of R60.7 billion. “But now all eyes will focus on the government’s reconstruction and reconstruction plans. It’s far behind the starting block.” He hopes that further relaxation of blockade regulations and tax jackpots against the backdrop of record mining sector interests will contribute to the faster implementation of this plan. Andries van Heerden, CEO of Afrimat, is slowly but feeling positive economic momentum within the group to accelerate the long-awaited infrastructure project ready to run the business. He said he needed momentum and commitment from the government. The construction sector is expected to be boosted by riots and looting repairs [Source link](//www.iol.co.za/business-report/companies/construction-sector-projected-to-be-boosted-by-rioting-and-looting-repairs-0d6b4e8f-c456-4f70-8b93-7c8fc591d1c1) The construction sector is expected to be boosted by riots and looting repairs\" and the label \"lovely\" has exceeded the maximum amount of tokens allowed in a prompt.\nConsider removing or shorterning examples or inputs to resolve this issue.",
     "output_type": "error",
     "traceback": [
      "\u001b[0;31m---------------------------------------------------------------------------\u001b[0m",
      "\u001b[0;31mCohereError\u001b[0m                               Traceback (most recent call last)",
      "\u001b[1;32m/home/f0x-tr0t/Documents/10X/week_IV/the-project-folder/LLM-API/notebooks/news-scoring-using-cohere.ipynb Cell 19\u001b[0m in \u001b[0;36m<cell line: 3>\u001b[0;34m()\u001b[0m\n\u001b[1;32m      <a href='vscode-notebook-cell:/home/f0x-tr0t/Documents/10X/week_IV/the-project-folder/LLM-API/notebooks/news-scoring-using-cohere.ipynb#X23sZmlsZQ%3D%3D?line=0'>1</a>\u001b[0m \u001b[39m# setting up classify parameters and examples \u001b[39;00m\n\u001b[0;32m----> <a href='vscode-notebook-cell:/home/f0x-tr0t/Documents/10X/week_IV/the-project-folder/LLM-API/notebooks/news-scoring-using-cohere.ipynb#X23sZmlsZQ%3D%3D?line=2'>3</a>\u001b[0m response \u001b[39m=\u001b[39m co\u001b[39m.\u001b[39;49mclassify(\n\u001b[1;32m      <a href='vscode-notebook-cell:/home/f0x-tr0t/Documents/10X/week_IV/the-project-folder/LLM-API/notebooks/news-scoring-using-cohere.ipynb#X23sZmlsZQ%3D%3D?line=3'>4</a>\u001b[0m   model\u001b[39m=\u001b[39;49mmodel_type,\n\u001b[1;32m      <a href='vscode-notebook-cell:/home/f0x-tr0t/Documents/10X/week_IV/the-project-folder/LLM-API/notebooks/news-scoring-using-cohere.ipynb#X23sZmlsZQ%3D%3D?line=4'>5</a>\u001b[0m   inputs\u001b[39m=\u001b[39;49mclassification_inputs,\n\u001b[1;32m      <a href='vscode-notebook-cell:/home/f0x-tr0t/Documents/10X/week_IV/the-project-folder/LLM-API/notebooks/news-scoring-using-cohere.ipynb#X23sZmlsZQ%3D%3D?line=5'>6</a>\u001b[0m   examples\u001b[39m=\u001b[39;49mexamples\n\u001b[1;32m      <a href='vscode-notebook-cell:/home/f0x-tr0t/Documents/10X/week_IV/the-project-folder/LLM-API/notebooks/news-scoring-using-cohere.ipynb#X23sZmlsZQ%3D%3D?line=6'>7</a>\u001b[0m )\n",
      "File \u001b[0;32m~/.local/lib/python3.10/site-packages/cohere/client.py:172\u001b[0m, in \u001b[0;36mClient.classify\u001b[0;34m(self, inputs, model, examples, taskDescription, outputIndicator, truncate)\u001b[0m\n\u001b[1;32m    162\u001b[0m     examples_dicts\u001b[39m.\u001b[39mappend(example_dict)\n\u001b[1;32m    164\u001b[0m json_body \u001b[39m=\u001b[39m json\u001b[39m.\u001b[39mdumps({\n\u001b[1;32m    165\u001b[0m     \u001b[39m'\u001b[39m\u001b[39mmodel\u001b[39m\u001b[39m'\u001b[39m: model,\n\u001b[1;32m    166\u001b[0m     \u001b[39m'\u001b[39m\u001b[39minputs\u001b[39m\u001b[39m'\u001b[39m: inputs,\n\u001b[0;32m   (...)\u001b[0m\n\u001b[1;32m    170\u001b[0m     \u001b[39m'\u001b[39m\u001b[39mtruncate\u001b[39m\u001b[39m'\u001b[39m: truncate,\n\u001b[1;32m    171\u001b[0m })\n\u001b[0;32m--> 172\u001b[0m response \u001b[39m=\u001b[39m \u001b[39mself\u001b[39;49m\u001b[39m.\u001b[39;49m__request(json_body, cohere\u001b[39m.\u001b[39;49mCLASSIFY_URL)\n\u001b[1;32m    174\u001b[0m classifications \u001b[39m=\u001b[39m []\n\u001b[1;32m    175\u001b[0m \u001b[39mfor\u001b[39;00m res \u001b[39min\u001b[39;00m response[\u001b[39m'\u001b[39m\u001b[39mclassifications\u001b[39m\u001b[39m'\u001b[39m]:\n",
      "File \u001b[0;32m~/.local/lib/python3.10/site-packages/cohere/client.py:277\u001b[0m, in \u001b[0;36mClient.__request\u001b[0;34m(self, json_body, endpoint)\u001b[0m\n\u001b[1;32m    275\u001b[0m         \u001b[39mraise\u001b[39;00m CohereError(message\u001b[39m=\u001b[39mresponse\u001b[39m.\u001b[39mtext, http_status\u001b[39m=\u001b[39mresponse\u001b[39m.\u001b[39mstatus_code, headers\u001b[39m=\u001b[39mresponse\u001b[39m.\u001b[39mheaders)\n\u001b[1;32m    276\u001b[0m     \u001b[39mif\u001b[39;00m \u001b[39m'\u001b[39m\u001b[39mmessage\u001b[39m\u001b[39m'\u001b[39m \u001b[39min\u001b[39;00m res\u001b[39m.\u001b[39mkeys():  \u001b[39m# has errors\u001b[39;00m\n\u001b[0;32m--> 277\u001b[0m         \u001b[39mraise\u001b[39;00m CohereError(message\u001b[39m=\u001b[39mres[\u001b[39m'\u001b[39m\u001b[39mmessage\u001b[39m\u001b[39m'\u001b[39m], http_status\u001b[39m=\u001b[39mresponse\u001b[39m.\u001b[39mstatus_code, headers\u001b[39m=\u001b[39mresponse\u001b[39m.\u001b[39mheaders)\n\u001b[1;32m    278\u001b[0m     \u001b[39mself\u001b[39m\u001b[39m.\u001b[39m__print_warning_msg(response)\n\u001b[1;32m    280\u001b[0m \u001b[39mreturn\u001b[39;00m res\n",
      "\u001b[0;31mCohereError\u001b[0m: invalid request: the length of the prompt generated by the input \"Construction activity grew steadily by 4% in the second quarter of the first three months of 2021 and recovered quickly and significantly in the same quarter of 2020 due to the low base effect of Covid. Famous economist Dr. Roerofubota said yesterday. In the announcement of the Afrimat Construction Index (ACI), and on behalf of Afrimat, he said ACI reached 110.3 points in the second half of 2021 and reached a 55% rebound compared to the same quarter last year. .. The construction industry continues to improve, he said in a telephone interview. Quarterly improvements were driven by a significant increase in employment in the construction sector and sales of building materials. Since the second quarter of 2020, the construction industry has created approximately 156,000 jobs. Bota said other promising improvements in the building blocks are the value of the building plans passed and the value of the buildings completed by the larger municipalities of the country. “Unfortunately, the post-pandemic construction recovery remains incomplete, with the second quarter 6.8% behind Covid, the same quarter of 2019.” But Bota said he was confident that it would continue. Damage to buildings from July riots and looting, and potential additional spending on buildings, repairs and security in KwaZulu-Natal and Houten could boost construction activity in the third and perhaps fourth quarters He said it was highly sexual. .. Inflation has begun to fall in recent months, well below the South African Reserve Bank’s upper inflation target. This means that interest rates may remain low until 2022. “A 30% reduction in the cost of mortgages at prime rates has already helped us to return to higher home prices and increase the value of new mortgages,” he said. In addition, two business confidences recorded an immediate recovery from the decline following the July unrest. According to Bota, several companies that have a strong foothold in the construction sector’s value chain have recently released impressive financial results. Examples include JSE-listed Cashbuild and Murray & Roberts, which show that purchase orders have reached a new record of R60.7 billion. “But now all eyes will focus on the government’s reconstruction and reconstruction plans. It’s far behind the starting block.” He hopes that further relaxation of blockade regulations and tax jackpots against the backdrop of record mining sector interests will contribute to the faster implementation of this plan. Andries van Heerden, CEO of Afrimat, is slowly but feeling positive economic momentum within the group to accelerate the long-awaited infrastructure project ready to run the business. He said he needed momentum and commitment from the government. The construction sector is expected to be boosted by riots and looting repairs [Source link](//www.iol.co.za/business-report/companies/construction-sector-projected-to-be-boosted-by-rioting-and-looting-repairs-0d6b4e8f-c456-4f70-8b93-7c8fc591d1c1) The construction sector is expected to be boosted by riots and looting repairs\" and the label \"lovely\" has exceeded the maximum amount of tokens allowed in a prompt.\nConsider removing or shorterning examples or inputs to resolve this issue."
     ]
    }
   ],
   "source": [
    "# setting up classify parameters and examples \n",
    "\n",
    "response = co.classify(\n",
    "  model=model_type,\n",
    "  inputs=classification_inputs,\n",
    "  examples=examples\n",
    ")"
   ]
  },
  {
   "cell_type": "code",
   "execution_count": 14,
   "metadata": {},
   "outputs": [
    {
     "name": "stdout",
     "output_type": "stream",
     "text": [
      "The confidence levels of the labels are:\n",
      "[cohere.Classification {\n",
      "\tinput: Am I still able to return my order?\n",
      "\tprediction: Start return or exchange\n",
      "\tconfidence: [cohere.Confidence {\n",
      "\tlabel: Shipping and handling policy\n",
      "\tconfidence: 0.32005534\n",
      "}, cohere.Confidence {\n",
      "\tlabel: Start return or exchange\n",
      "\tconfidence: 0.5335526\n",
      "}, cohere.Confidence {\n",
      "\tlabel: Track orders\n",
      "\tconfidence: 0.14639212\n",
      "}]\n",
      "}, cohere.Classification {\n",
      "\tinput: When can I expect my package?\n",
      "\tprediction: Track orders\n",
      "\tconfidence: [cohere.Confidence {\n",
      "\tlabel: Shipping and handling policy\n",
      "\tconfidence: 0.27741268\n",
      "}, cohere.Confidence {\n",
      "\tlabel: Start return or exchange\n",
      "\tconfidence: 0.30839407\n",
      "}, cohere.Confidence {\n",
      "\tlabel: Track orders\n",
      "\tconfidence: 0.41419324\n",
      "}]\n",
      "}]\n"
     ]
    }
   ],
   "source": [
    "# finally get the classification for the  news and convert it back to a numerical range factor\n",
    "\n",
    "print('The confidence levels of the labels are:\\n{}'.format(response.classifications))"
   ]
  },
  {
   "cell_type": "markdown",
   "metadata": {},
   "source": [
    "* Finally receive the prediction of the classification"
   ]
  },
  {
   "cell_type": "code",
   "execution_count": 66,
   "metadata": {},
   "outputs": [
    {
     "data": {
      "text/plain": [
       "lovely         32\n",
       "risky           4\n",
       "detrimental     4\n",
       "Name: class, dtype: int64"
      ]
     },
     "execution_count": 66,
     "metadata": {},
     "output_type": "execute_result"
    }
   ],
   "source": [
    "copy['class'].value_counts()"
   ]
  },
  {
   "cell_type": "code",
   "execution_count": 63,
   "metadata": {},
   "outputs": [
    {
     "data": {
      "text/plain": [
       "(10, 10)"
      ]
     },
     "execution_count": 63,
     "metadata": {},
     "output_type": "execute_result"
    }
   ],
   "source": [
    "copy = news_data.copy()\n",
    "copy.shape"
   ]
  },
  {
   "cell_type": "code",
   "execution_count": 65,
   "metadata": {},
   "outputs": [
    {
     "data": {
      "text/plain": [
       "(40, 10)"
      ]
     },
     "execution_count": 65,
     "metadata": {},
     "output_type": "execute_result"
    }
   ],
   "source": [
    "copy = copy.append(copy, ignore_index=True)\n",
    "copy.shape"
   ]
  },
  {
   "cell_type": "markdown",
   "metadata": {},
   "source": [
    "## Using the text extraction feature"
   ]
  },
  {
   "cell_type": "code",
   "execution_count": null,
   "metadata": {},
   "outputs": [],
   "source": []
  }
 ],
 "metadata": {
  "kernelspec": {
   "display_name": "Python 3.10.4 64-bit",
   "language": "python",
   "name": "python3"
  },
  "language_info": {
   "codemirror_mode": {
    "name": "ipython",
    "version": 3
   },
   "file_extension": ".py",
   "mimetype": "text/x-python",
   "name": "python",
   "nbconvert_exporter": "python",
   "pygments_lexer": "ipython3",
   "version": "3.10.4"
  },
  "orig_nbformat": 4,
  "vscode": {
   "interpreter": {
    "hash": "916dbcbb3f70747c44a77c7bcd40155683ae19c65e1c03b4aa3499c5328201f1"
   }
  }
 },
 "nbformat": 4,
 "nbformat_minor": 2
}
