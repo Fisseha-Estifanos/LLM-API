{
 "cells": [
  {
   "cell_type": "code",
   "execution_count": 1,
   "metadata": {},
   "outputs": [],
   "source": [
    "# imports\n",
    "import os\n",
    "import sys\n",
    "import dvc.api\n",
    "import pandas as pd\n",
    "import dataframe_image as dfi\n",
    "import cohere\n",
    "from cohere.classify import Example\n",
    "import warnings\n",
    "warnings.filterwarnings('ignore')"
   ]
  },
  {
   "cell_type": "code",
   "execution_count": 2,
   "metadata": {},
   "outputs": [
    {
     "ename": "ModuleNotFoundError",
     "evalue": "No module named 'keys'",
     "output_type": "error",
     "traceback": [
      "\u001b[0;31m---------------------------------------------------------------------------\u001b[0m",
      "\u001b[0;31mModuleNotFoundError\u001b[0m                       Traceback (most recent call last)",
      "\u001b[1;32m/home/f0x-tr0t/Documents/10X/week_IV/the-project-folder/LLM-API/notebooks/news-scoring-using-cohere.ipynb Cell 2\u001b[0m in \u001b[0;36m<cell line: 8>\u001b[0;34m()\u001b[0m\n\u001b[1;32m      <a href='vscode-notebook-cell:/home/f0x-tr0t/Documents/10X/week_IV/the-project-folder/LLM-API/notebooks/news-scoring-using-cohere.ipynb#W1sZmlsZQ%3D%3D?line=5'>6</a>\u001b[0m \u001b[39mimport\u001b[39;00m \u001b[39mdataCleaner\u001b[39;00m \u001b[39mas\u001b[39;00m \u001b[39mdc\u001b[39;00m\n\u001b[1;32m      <a href='vscode-notebook-cell:/home/f0x-tr0t/Documents/10X/week_IV/the-project-folder/LLM-API/notebooks/news-scoring-using-cohere.ipynb#W1sZmlsZQ%3D%3D?line=6'>7</a>\u001b[0m \u001b[39mimport\u001b[39;00m \u001b[39mdataVisualizer\u001b[39;00m \u001b[39mas\u001b[39;00m \u001b[39mdv\u001b[39;00m\n\u001b[0;32m----> <a href='vscode-notebook-cell:/home/f0x-tr0t/Documents/10X/week_IV/the-project-folder/LLM-API/notebooks/news-scoring-using-cohere.ipynb#W1sZmlsZQ%3D%3D?line=7'>8</a>\u001b[0m \u001b[39mfrom\u001b[39;00m \u001b[39mkeys\u001b[39;00m \u001b[39mimport\u001b[39;00m cohere_api_key\n\u001b[1;32m     <a href='vscode-notebook-cell:/home/f0x-tr0t/Documents/10X/week_IV/the-project-folder/LLM-API/notebooks/news-scoring-using-cohere.ipynb#W1sZmlsZQ%3D%3D?line=9'>10</a>\u001b[0m cleaner \u001b[39m=\u001b[39m dc\u001b[39m.\u001b[39mdataCleaner(\u001b[39m'\u001b[39m\u001b[39mnews scoring using co:here API notebook\u001b[39m\u001b[39m'\u001b[39m)\n\u001b[1;32m     <a href='vscode-notebook-cell:/home/f0x-tr0t/Documents/10X/week_IV/the-project-folder/LLM-API/notebooks/news-scoring-using-cohere.ipynb#W1sZmlsZQ%3D%3D?line=10'>11</a>\u001b[0m visualizer \u001b[39m=\u001b[39m dv\u001b[39m.\u001b[39mdataVisualizer(\u001b[39m'\u001b[39m\u001b[39mnews scoring using co:here API notebook\u001b[39m\u001b[39m'\u001b[39m)\n",
      "\u001b[0;31mModuleNotFoundError\u001b[0m: No module named 'keys'"
     ]
    }
   ],
   "source": [
    "# adding and setting up scripts\n",
    "sys.path.append('.')\n",
    "sys.path.append('..')\n",
    "sys.path.insert(1, '../scripts/')\n",
    "import defaults as defs\n",
    "import dataCleaner as dc\n",
    "import dataVisualizer as dv\n",
    "from keys import cohere_api_key\n",
    "\n",
    "cleaner = dc.dataCleaner('news scoring using co:here API notebook')\n",
    "visualizer = dv.dataVisualizer('news scoring using co:here API notebook')"
   ]
  },
  {
   "cell_type": "code",
   "execution_count": null,
   "metadata": {},
   "outputs": [
    {
     "name": "stdout",
     "output_type": "stream",
     "text": [
      "news data path: /home/f0x-tr0t/Documents/dvc-store//50/1fbc56d932bcb51d74876281ec8f71\n"
     ]
    }
   ],
   "source": [
    "# pandas settings\n",
    "pd.set_option('display.max_columns', 30)\n",
    "\n",
    "# version of the data\n",
    "# v1 : local-store\n",
    "version = 'v1'\n",
    "\n",
    "# set up the dat url\n",
    "news_url = dvc.api.get_url(path = defs.news_local_path, \n",
    "                       repo = defs.repo, \n",
    "                       rev = version)\n",
    "\n",
    "# print news path\n",
    "print(f'news data path: {news_url}')"
   ]
  },
  {
   "cell_type": "code",
   "execution_count": null,
   "metadata": {},
   "outputs": [],
   "source": [
    "# reading csv files\n",
    "DateCols = ['timestamp']\n",
    "missing_values = [\"n/a\", \"na\", \"undefined\", '?', 'NA', 'undefined']\n",
    "\n",
    "news_data = pd.read_csv(news_url, na_values=missing_values, parse_dates=DateCols, low_memory=False)"
   ]
  },
  {
   "cell_type": "markdown",
   "metadata": {},
   "source": [
    "# News scoring using co:here API"
   ]
  },
  {
   "cell_type": "code",
   "execution_count": null,
   "metadata": {},
   "outputs": [],
   "source": [
    "# setting up api key\n",
    "# use your own api key here\n",
    "co = cohere.Client(cohere_api_key)"
   ]
  },
  {
   "cell_type": "markdown",
   "metadata": {},
   "source": [
    "### Setting up model parameters"
   ]
  },
  {
   "cell_type": "code",
   "execution_count": null,
   "metadata": {},
   "outputs": [],
   "source": [
    "# setting up classify parameters\n",
    "\n",
    "# model type to use\n",
    "model_type='large'\n",
    "\n",
    "# TODO: change these to the news body\n",
    "# the news sentences(bod) to get classification for\n",
    "classification_inputs=[\"Am I still able to return my order?\", \"When can I expect my package?\"]\n",
    "\n",
    "# TODO: change these to the news body and analyst average score\n",
    "# the existing news prepared in these example formats to feed to the model\n",
    "\n",
    "# TODO: set up the news classifications like this\n",
    "type_one = 'Shipping and handling policy'\n",
    "type_two = 'Start return or exchange'\n",
    "type_three = 'Track orders'\n",
    "\n",
    "# TODO: set up the news examples like this\n",
    "prompt_examples = [Example(\"Do you offer same day shipping?\", type_one),\n",
    "            Example(\"Can you ship to Italy?\", type_one),\n",
    "            Example(\"How long does shipping take?\", type_one),\n",
    "            Example(\"Can I buy online and pick up in store?\", type_one),\n",
    "            Example(\"What are your shipping options?\", type_one),\n",
    "\n",
    "            Example(\"My order arrived damaged, can I get a refund?\", type_two),\n",
    "            Example(\"You sent me the wrong item\", type_two),\n",
    "            Example(\"I want to exchange my item for another colour\", type_two),\n",
    "            Example(\"I ordered something and it wasn’t what I expected. Can I return it?\", type_two),\n",
    "            Example(\"What’s your return policy?\", type_two),\n",
    "\n",
    "            Example(\"Where’s my package?\", type_three),\n",
    "            Example(\"When will my order arrive?\", type_three),\n",
    "            Example(\"What’s my shipping number?\", type_three),\n",
    "            Example(\"Which carrier is my package with?\", type_three),\n",
    "            Example(\"Is my package delayed?\", type_three)]"
   ]
  },
  {
   "cell_type": "code",
   "execution_count": null,
   "metadata": {},
   "outputs": [],
   "source": [
    "# setting up classify parameters and examples \n",
    "\n",
    "response = co.classify(\n",
    "  model=model_type,\n",
    "  inputs=classification_inputs,\n",
    "  examples=prompt_examples\n",
    ")"
   ]
  },
  {
   "cell_type": "code",
   "execution_count": null,
   "metadata": {},
   "outputs": [
    {
     "name": "stdout",
     "output_type": "stream",
     "text": [
      "The confidence levels of the labels are:\n",
      "[cohere.Classification {\n",
      "\tinput: Am I still able to return my order?\n",
      "\tprediction: Start return or exchange\n",
      "\tconfidence: [cohere.Confidence {\n",
      "\tlabel: Shipping and handling policy\n",
      "\tconfidence: 0.32005534\n",
      "}, cohere.Confidence {\n",
      "\tlabel: Start return or exchange\n",
      "\tconfidence: 0.5335526\n",
      "}, cohere.Confidence {\n",
      "\tlabel: Track orders\n",
      "\tconfidence: 0.14639212\n",
      "}]\n",
      "}, cohere.Classification {\n",
      "\tinput: When can I expect my package?\n",
      "\tprediction: Track orders\n",
      "\tconfidence: [cohere.Confidence {\n",
      "\tlabel: Shipping and handling policy\n",
      "\tconfidence: 0.27741268\n",
      "}, cohere.Confidence {\n",
      "\tlabel: Start return or exchange\n",
      "\tconfidence: 0.30839407\n",
      "}, cohere.Confidence {\n",
      "\tlabel: Track orders\n",
      "\tconfidence: 0.41419324\n",
      "}]\n",
      "}]\n"
     ]
    }
   ],
   "source": [
    "# finally get the classification for the  news and convert it back to a numerical range factor\n",
    "\n",
    "print('The confidence levels of the labels are:\\n{}'.format(response.classifications))"
   ]
  },
  {
   "cell_type": "markdown",
   "metadata": {},
   "source": [
    "* Finally receive the prediction of the classification"
   ]
  }
 ],
 "metadata": {
  "kernelspec": {
   "display_name": "Python 3.10.4 64-bit",
   "language": "python",
   "name": "python3"
  },
  "language_info": {
   "codemirror_mode": {
    "name": "ipython",
    "version": 3
   },
   "file_extension": ".py",
   "mimetype": "text/x-python",
   "name": "python",
   "nbconvert_exporter": "python",
   "pygments_lexer": "ipython3",
   "version": "3.10.4"
  },
  "orig_nbformat": 4,
  "vscode": {
   "interpreter": {
    "hash": "916dbcbb3f70747c44a77c7bcd40155683ae19c65e1c03b4aa3499c5328201f1"
   }
  }
 },
 "nbformat": 4,
 "nbformat_minor": 2
}
